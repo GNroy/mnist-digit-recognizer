{
 "cells": [
  {
   "cell_type": "code",
   "execution_count": 1,
   "metadata": {
    "collapsed": false
   },
   "outputs": [],
   "source": [
    "# Import the modules\n",
    "from sklearn.externals import joblib\n",
    "from sklearn import datasets\n",
    "from skimage.feature import hog\n",
    "from sklearn.neighbors import KNeighborsClassifier\n",
    "import numpy as np\n",
    "from collections import Counter\n",
    "from os import system\n",
    "import random\n",
    "from sklearn.metrics import f1_score\n",
    "from sklearn import linear_model\n",
    "\n",
    "# Hog features extraction\n",
    "def hog_f(features):\n",
    "    list_hog_fd = []\n",
    "    for feature in features:\n",
    "        fd = hog(feature.reshape((28, 28)), orientations=9, pixels_per_cell=(14, 14), cells_per_block=(1, 1), visualise=False)\n",
    "        list_hog_fd.append(fd)\n",
    "    return np.array(list_hog_fd, 'float64')"
   ]
  },
  {
   "cell_type": "code",
   "execution_count": 3,
   "metadata": {
    "collapsed": false
   },
   "outputs": [],
   "source": [
    "# Load and prepare the dataset\n",
    "try:\n",
    "    dataset = joblib.load(\"digits.pkl\")\n",
    "except FileNotFoundError:\n",
    "    dataset = datasets.fetch_mldata(\"MNIST Original\")\n",
    "    d = [[dataset.data[i], dataset.target[i]] for i in range(len(dataset.data))]\n",
    "    np.random.shuffle(d)\n",
    "    d = np.transpose(d)\n",
    "    dataset.data = [x for x in d[0]]\n",
    "    dataset.target = d[1]\n",
    "    joblib.dump(dataset, \"digits.pkl\", compress=5)\n",
    "\n",
    "# Extract the features and labels\n",
    "features = np.array(dataset.data, 'int16')\n",
    "labels = np.array(dataset.target, 'int')\n",
    "\n",
    "# Extract the hog features\n",
    "hog_features = hog_f(features)\n",
    "\n",
    "size = int(len(hog_features) * 0.8)"
   ]
  },
  {
   "cell_type": "code",
   "execution_count": 4,
   "metadata": {
    "collapsed": false
   },
   "outputs": [],
   "source": [
    "# Determine optimal neighbors number according accuracy and F1 score\n",
    "# Requires a minute on every iteration so can be skipped with hardcoded n_neighbors_opt\n",
    "list_v = []\n",
    "idmax = 0\n",
    "max_v = 0.0\n",
    "for i in range (1,21):\n",
    "    clf = KNeighborsClassifier(n_neighbors=i)\n",
    "    clf.fit(hog_features[:size], labels[:size])\n",
    "    pred = clf.predict(hog_features[size:])\n",
    "    list_v.append([f1_score(labels[size:], pred, average=\"macro\"), clf.score(hog_features[size:], labels[size:])])\n",
    "    if list_v[-1][0]+list_v[-1][-1] > max_v:\n",
    "        max_v = list_v[-1][0]+list_v[-1][-1]\n",
    "        idmax = i\n",
    "n_neighbors_opt = idmax"
   ]
  },
  {
   "cell_type": "code",
   "execution_count": 6,
   "metadata": {
    "collapsed": false
   },
   "outputs": [
    {
     "name": "stdout",
     "output_type": "stream",
     "text": [
      "KNN accuracy = 0.922071428571, F1 score = 0.921930710115\n"
     ]
    },
    {
     "data": {
      "text/plain": [
       "['digits_cls.pkl']"
      ]
     },
     "execution_count": 6,
     "metadata": {},
     "output_type": "execute_result"
    }
   ],
   "source": [
    "# Prepare kNN classifier and compute accuracy and F1 score\n",
    "clf = KNeighborsClassifier(n_neighbors=n_neighbors_opt)\n",
    "clf.fit(hog_features[:size], labels[:size])\n",
    "pred = clf.predict(hog_features[size:])\n",
    "result = [f1_score(labels[size:], pred, average=\"macro\"), clf.score(hog_features[size:], labels[size:])]\n",
    "print (\"KNN accuracy = %s, F1 score = %s\" % (result[1], result[0]))\n",
    "\n",
    "joblib.dump(clf, \"digits_cls.pkl\", compress=3)"
   ]
  },
  {
   "cell_type": "code",
   "execution_count": 7,
   "metadata": {
    "collapsed": false
   },
   "outputs": [],
   "source": [
    "# Prepare noise filter\n",
    "# Works up to 5 minutes in case of generating so expect delays\n",
    "try:\n",
    "    joblib.load(\"filter_cls.pkl\")\n",
    "except FileNotFoundError:\n",
    "    noise = [[[random.randint(0, 255) if random.randint(0, 2) == 0 else 0 for y in range(len(dataset.data[0]))] \n",
    "              for x in range(len(dataset.data))], [0 for x in range(len(dataset.target))]]\n",
    "\n",
    "    labels_f = [1 for x in range(len(dataset.target))] + noise[1]\n",
    "    features_f = np.append(np.array(dataset.data, 'int16'), noise[0]).reshape((-1, 28*28))\n",
    "\n",
    "    hog_features_f = hog_f(features_f)\n",
    "\n",
    "    clf_f = KNeighborsClassifier(n_neighbors=n_neighbors_opt)\n",
    "    clf_f.fit(hog_features_f, labels_f)\n",
    "    joblib.dump(clf_f, \"filter_cls.pkl\", compress=3)"
   ]
  },
  {
   "cell_type": "code",
   "execution_count": 8,
   "metadata": {
    "collapsed": false
   },
   "outputs": [
    {
     "data": {
      "text/plain": [
       "0"
      ]
     },
     "execution_count": 8,
     "metadata": {},
     "output_type": "execute_result"
    }
   ],
   "source": [
    "# Test kNN classifier on pictures\n",
    "system(\"python performRecognition.py 3402333_skanirovanie0003.jpg\")\n",
    "system(\"python performRecognition.py 2448729.jpg\")\n",
    "system(\"python performRecognition.py 63555_640.jpg\")\n",
    "system(\"python performRecognition.py 1296635738_4.jpg\")"
   ]
  },
  {
   "cell_type": "code",
   "execution_count": 9,
   "metadata": {
    "collapsed": false
   },
   "outputs": [
    {
     "name": "stdout",
     "output_type": "stream",
     "text": [
      "Linear regression accuracy = 0.867214285714, F1 score = 0.866711182618\n"
     ]
    },
    {
     "data": {
      "text/plain": [
       "['digits_cls.pkl']"
      ]
     },
     "execution_count": 9,
     "metadata": {},
     "output_type": "execute_result"
    }
   ],
   "source": [
    "# Prepare linear regression and compute accuracy and F1 score\n",
    "# I decided to choose logistic regression because of multiclass problem\n",
    "regr = linear_model.LogisticRegression(C=10, solver='newton-cg')\n",
    "regr.fit(hog_features[:size], labels[:size])\n",
    "pred = regr.predict(hog_features[size:])\n",
    "result = [f1_score(labels[size:], pred, average=\"macro\"), regr.score(hog_features[size:], labels[size:])]\n",
    "print (\"Linear regression accuracy = %s, F1 score = %s\" % (result[1], result[0]))\n",
    "joblib.dump(regr, \"digits_cls.pkl\", compress=3)"
   ]
  },
  {
   "cell_type": "code",
   "execution_count": 10,
   "metadata": {
    "collapsed": false
   },
   "outputs": [
    {
     "data": {
      "text/plain": [
       "0"
      ]
     },
     "execution_count": 10,
     "metadata": {},
     "output_type": "execute_result"
    }
   ],
   "source": [
    "# Test linear regression on pictures\n",
    "system(\"python performRecognition.py 3402333_skanirovanie0003.jpg\")\n",
    "system(\"python performRecognition.py 2448729.jpg\")\n",
    "system(\"python performRecognition.py 63555_640.jpg\")\n",
    "system(\"python performRecognition.py 1296635738_4.jpg\")"
   ]
  },
  {
   "cell_type": "markdown",
   "metadata": {},
   "source": [
    "Thus, the kNN classifier shows the best results, comparing both the accuracy and the F1 score, and the results in the tests with images."
   ]
  }
 ],
 "metadata": {
  "kernelspec": {
   "display_name": "Python 3",
   "language": "python",
   "name": "python3"
  },
  "language_info": {
   "codemirror_mode": {
    "name": "ipython",
    "version": 3
   },
   "file_extension": ".py",
   "mimetype": "text/x-python",
   "name": "python",
   "nbconvert_exporter": "python",
   "pygments_lexer": "ipython3",
   "version": "3.6.0"
  }
 },
 "nbformat": 4,
 "nbformat_minor": 0
}
